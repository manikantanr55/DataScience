{
  "nbformat": 4,
  "nbformat_minor": 0,
  "metadata": {
    "colab": {
      "name": "Python_Basics.ipynb",
      "provenance": [],
      "collapsed_sections": [],
      "authorship_tag": "ABX9TyMwRu419T+MkafzJQTsNWBv",
      "include_colab_link": true
    },
    "kernelspec": {
      "name": "python3",
      "display_name": "Python 3"
    }
  },
  "cells": [
    {
      "cell_type": "markdown",
      "metadata": {
        "id": "view-in-github",
        "colab_type": "text"
      },
      "source": [
        "<a href=\"https://colab.research.google.com/github/manikantanr55/DataScience/blob/main/Python_Basics.ipynb\" target=\"_parent\"><img src=\"https://colab.research.google.com/assets/colab-badge.svg\" alt=\"Open In Colab\"/></a>"
      ]
    },
    {
      "cell_type": "markdown",
      "metadata": {
        "id": "0nbBGnhJBysL"
      },
      "source": [
        "## **Python Basics**\r\n",
        "\r\n",
        "This notebook consists of essential python basics required to gain access to Data analsis in day to day life of a Data Analyst\r\n",
        "\r\n",
        "Note: This has only the basics and not entire python"
      ]
    },
    {
      "cell_type": "markdown",
      "metadata": {
        "id": "FmkN3TinCV0H"
      },
      "source": [
        "Data Structures list - \r\n",
        "\r\n",
        "*   List\r\n",
        "*   Sets\r\n",
        "*   Tuple\r\n",
        "*   Dictionary\r\n",
        "\r\n",
        "\r\n",
        "\r\n",
        "\r\n"
      ]
    },
    {
      "cell_type": "markdown",
      "metadata": {
        "id": "rHX9QmhNK3Sd"
      },
      "source": [
        "### Comparision Operators"
      ]
    },
    {
      "cell_type": "code",
      "metadata": {
        "colab": {
          "base_uri": "https://localhost:8080/"
        },
        "id": "QAAH_6sIBjBB",
        "outputId": "ba6539cd-586c-4fa4-c744-9bd27b554e81"
      },
      "source": [
        "# Comparision Operators\r\n",
        "print(\"And operator needs both of the arguments to be True: \\n\")\r\n",
        "print(\"True and False: \", True and False)\r\n",
        "print(\"True and True: \", True and True)\r\n",
        "print(\"False and False: \", False and False)"
      ],
      "execution_count": 8,
      "outputs": [
        {
          "output_type": "stream",
          "text": [
            "And operator needs both of the arguments to be True: \n",
            "\n",
            "True and False:  False\n",
            "True and True:  True\n",
            "False and False:  False\n"
          ],
          "name": "stdout"
        }
      ]
    },
    {
      "cell_type": "markdown",
      "metadata": {
        "id": "CV35P-d2ECkU"
      },
      "source": [
        "**List**\r\n",
        "\r\n",
        "*   Ordered(indexing) sequency of elements, which are mutable(can change any value)\r\n",
        "*   Defined inside square brackets [ ]\r\n",
        "*   Can have different datatypes i.e., different data types can be as elements in list"
      ]
    },
    {
      "cell_type": "code",
      "metadata": {
        "colab": {
          "base_uri": "https://localhost:8080/"
        },
        "id": "HVtfGFWjBwj1",
        "outputId": "6e633242-748d-4700-af4b-5763f7cd8c84"
      },
      "source": [
        "list_example = [] # Empty list initiation\r\n",
        "type(list_example)"
      ],
      "execution_count": 9,
      "outputs": [
        {
          "output_type": "execute_result",
          "data": {
            "text/plain": [
              "list"
            ]
          },
          "metadata": {
            "tags": []
          },
          "execution_count": 9
        }
      ]
    },
    {
      "cell_type": "code",
      "metadata": {
        "colab": {
          "base_uri": "https://localhost:8080/"
        },
        "id": "03J99ZFiEqdK",
        "outputId": "c6b1690d-fda2-4d9c-8795-0c7f3fbce23a"
      },
      "source": [
        "# Example list\r\n",
        "num_list = [1,2,47,8,9,28]\r\n",
        "char_list = [\"hi\", \"welcome to\", \"Data Science\", \"with python\"]\r\n",
        "combined_list = [1,2,47,8,9,28, \"hi\", \"welcome to\", \"Data Science\", \"with python\"]\r\n",
        "print(\"List with only numbers: \", num_list, \"\\n List with only strings: \", char_list, \"\\n List with numbers and strings: \", combined_list)"
      ],
      "execution_count": 21,
      "outputs": [
        {
          "output_type": "stream",
          "text": [
            "List with only numbers:  [1, 2, 47, 8, 9, 28] \n",
            " List with only strings:  ['hi', 'welcome to', 'Data Science', 'with python'] \n",
            " List with numbers and strings:  [1, 2, 47, 8, 9, 28, 'hi', 'welcome to', 'Data Science', 'with python']\n"
          ],
          "name": "stdout"
        }
      ]
    },
    {
      "cell_type": "code",
      "metadata": {
        "colab": {
          "base_uri": "https://localhost:8080/"
        },
        "id": "QoyjvGFiF4oG",
        "outputId": "0390d82e-b1c3-4b26-a7c4-746bedc6d97e"
      },
      "source": [
        "# Common functions to be used to identify list properties\r\n",
        "print(\"Length/number of elements in a list is given by len(list) = \", len(num_list), \"\\n\")\r\n",
        "print(\"Max of elements in a list is given by max(list) = \", max(num_list), \"\\n\")\r\n",
        "print(\"Min of elements in a list is given by min(list) = \", min(num_list), \"\\n\")"
      ],
      "execution_count": 32,
      "outputs": [
        {
          "output_type": "stream",
          "text": [
            "Length/number of elements in a list is given by len(list) =  6 \n",
            "\n",
            "Max of elements in a list is given by max(list) =  47 \n",
            "\n",
            "Max of elements in a list is given by min(list) =  1 \n",
            "\n"
          ],
          "name": "stdout"
        }
      ]
    },
    {
      "cell_type": "code",
      "metadata": {
        "colab": {
          "base_uri": "https://localhost:8080/"
        },
        "id": "D6C8HKdRGyVq",
        "outputId": "aa38bd80-db89-4ca3-c99c-4d4d054b555a"
      },
      "source": [
        "# For those who are wondering how min and max works for list of strings:\r\n",
        "sample_list = [\"aaa\", \"ccc\", \"xxx\", \"ddd\"]\r\n",
        "print(\"Max of a list of strings: \", max(sample_list), \"\\n \")\r\n",
        "print(\"Min of a list of strings: \", min(sample_list), \"\\n \")"
      ],
      "execution_count": 34,
      "outputs": [
        {
          "output_type": "stream",
          "text": [
            "Max of a list of strings:  xxx \n",
            " \n",
            "Min of a list of strings:  aaa \n",
            " \n"
          ],
          "name": "stdout"
        }
      ]
    }
  ]
}