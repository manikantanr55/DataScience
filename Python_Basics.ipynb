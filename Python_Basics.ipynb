{
  "nbformat": 4,
  "nbformat_minor": 0,
  "metadata": {
    "colab": {
      "name": "Python_Basics.ipynb",
      "provenance": [],
      "collapsed_sections": [],
      "authorship_tag": "ABX9TyPcjdJAxFJKAh75mWiwgbAa",
      "include_colab_link": true
    },
    "kernelspec": {
      "name": "python3",
      "display_name": "Python 3"
    }
  },
  "cells": [
    {
      "cell_type": "markdown",
      "metadata": {
        "id": "view-in-github",
        "colab_type": "text"
      },
      "source": [
        "<a href=\"https://colab.research.google.com/github/manikantanr55/DataScience/blob/main/Python_Basics.ipynb\" target=\"_parent\"><img src=\"https://colab.research.google.com/assets/colab-badge.svg\" alt=\"Open In Colab\"/></a>"
      ]
    },
    {
      "cell_type": "markdown",
      "metadata": {
        "id": "0nbBGnhJBysL"
      },
      "source": [
        "## **Python Basics**\r\n",
        "\r\n",
        "This notebook consists of essential python basics required to gain access to Data analsis in day to day life of a Data Analyst\r\n",
        "\r\n",
        "Note: This has only the basics and not entire python"
      ]
    },
    {
      "cell_type": "markdown",
      "metadata": {
        "id": "FmkN3TinCV0H"
      },
      "source": [
        "Data Structures list - \r\n",
        "\r\n",
        "*   List\r\n",
        "*   Sets\r\n",
        "*   Tuple\r\n",
        "*   Dictionary\r\n",
        "\r\n",
        "\r\n",
        "\r\n",
        "\r\n"
      ]
    },
    {
      "cell_type": "markdown",
      "metadata": {
        "id": "rHX9QmhNK3Sd"
      },
      "source": [
        "### Comparision Operators"
      ]
    },
    {
      "cell_type": "code",
      "metadata": {
        "colab": {
          "base_uri": "https://localhost:8080/"
        },
        "id": "QAAH_6sIBjBB",
        "outputId": "d9954d58-4d24-4025-bdc5-c651696ea7c4"
      },
      "source": [
        "# Comparision Operators\r\n",
        "print(\"And operator needs both of the arguments to be True: \\n\")\r\n",
        "print(\"True and False: \", True and False)\r\n",
        "print(\"True and True: \", True and True)\r\n",
        "print(\"False and False: \", False and False)\r\n",
        "\r\n",
        "print(\"\\n OR operator needs either of the arguments to be True: \\n\")\r\n",
        "print(\"True or False: \", True or False)\r\n",
        "print(\"True or True: \", True or True)\r\n",
        "print(\"False or False: \", False or False)"
      ],
      "execution_count": 1,
      "outputs": [
        {
          "output_type": "stream",
          "text": [
            "And operator needs both of the arguments to be True: \n",
            "\n",
            "True and False:  False\n",
            "True and True:  True\n",
            "False and False:  False\n",
            "\n",
            " OR operator needs either of the arguments to be True: \n",
            "\n",
            "True or False:  True\n",
            "True or True:  True\n",
            "False or False:  False\n"
          ],
          "name": "stdout"
        }
      ]
    },
    {
      "cell_type": "markdown",
      "metadata": {
        "id": "CV35P-d2ECkU"
      },
      "source": [
        "### **List**\r\n",
        "\r\n",
        "*   Ordered(indexing) sequency of elements, which are mutable(can change any value)\r\n",
        "*   Defined inside square brackets [ ]\r\n",
        "*   Can have different datatypes i.e., different data types can be as elements in list"
      ]
    },
    {
      "cell_type": "code",
      "metadata": {
        "colab": {
          "base_uri": "https://localhost:8080/"
        },
        "id": "HVtfGFWjBwj1",
        "outputId": "6f88ea3a-1533-4ce6-887d-66d65130be08"
      },
      "source": [
        "list_example = [] # Empty list initiation\r\n",
        "type(list_example)"
      ],
      "execution_count": 2,
      "outputs": [
        {
          "output_type": "execute_result",
          "data": {
            "text/plain": [
              "list"
            ]
          },
          "metadata": {
            "tags": []
          },
          "execution_count": 2
        }
      ]
    },
    {
      "cell_type": "code",
      "metadata": {
        "colab": {
          "base_uri": "https://localhost:8080/"
        },
        "id": "03J99ZFiEqdK",
        "outputId": "d6c59523-f2da-4770-bfa1-3351db094910"
      },
      "source": [
        "# Example list\r\n",
        "num_list = [1,2,47, 1, 2,8,2,9,28]\r\n",
        "char_list = [\"hi\", \"welcome to\", \"Data Science\", \"with python\"]\r\n",
        "combined_list = [1,2,47,8,9,28, \"hi\", \"welcome to\", \"Data Science\", \"with python\"]\r\n",
        "print(\"List with only numbers: \", num_list, \"\\n List with only strings: \", char_list, \"\\n List with numbers and strings: \", combined_list)"
      ],
      "execution_count": 3,
      "outputs": [
        {
          "output_type": "stream",
          "text": [
            "List with only numbers:  [1, 2, 47, 1, 2, 8, 2, 9, 28] \n",
            " List with only strings:  ['hi', 'welcome to', 'Data Science', 'with python'] \n",
            " List with numbers and strings:  [1, 2, 47, 8, 9, 28, 'hi', 'welcome to', 'Data Science', 'with python']\n"
          ],
          "name": "stdout"
        }
      ]
    },
    {
      "cell_type": "code",
      "metadata": {
        "colab": {
          "base_uri": "https://localhost:8080/"
        },
        "id": "QoyjvGFiF4oG",
        "outputId": "31228013-6641-48dc-b624-e085d2582ba4"
      },
      "source": [
        "# Common functions to be used to identify list properties\r\n",
        "print(\"Length/number of elements in a list is given by len(list) = \", len(num_list), \"\\n\")\r\n",
        "print(\"Max of elements in a list is given by max(list) = \", max(num_list), \"\\n\")\r\n",
        "print(\"Min of elements in a list is given by min(list) = \", min(num_list), \"\\n\")"
      ],
      "execution_count": 4,
      "outputs": [
        {
          "output_type": "stream",
          "text": [
            "Length/number of elements in a list is given by len(list) =  9 \n",
            "\n",
            "Max of elements in a list is given by max(list) =  47 \n",
            "\n",
            "Min of elements in a list is given by min(list) =  1 \n",
            "\n"
          ],
          "name": "stdout"
        }
      ]
    },
    {
      "cell_type": "code",
      "metadata": {
        "colab": {
          "base_uri": "https://localhost:8080/"
        },
        "id": "D6C8HKdRGyVq",
        "outputId": "9f69fc7e-75ad-4da6-88df-ba9526e6e6b3"
      },
      "source": [
        "# For those who are wondering how min and max works for list of strings:\r\n",
        "sample_list = [\"aaa\", \"ccc\", \"xxx\", \"ddd\"]\r\n",
        "print(\"Max of a list of strings: \", max(sample_list), \"\\n \")\r\n",
        "print(\"Min of a list of strings: \", min(sample_list), \"\\n \")"
      ],
      "execution_count": 5,
      "outputs": [
        {
          "output_type": "stream",
          "text": [
            "Max of a list of strings:  xxx \n",
            " \n",
            "Min of a list of strings:  aaa \n",
            " \n"
          ],
          "name": "stdout"
        }
      ]
    },
    {
      "cell_type": "markdown",
      "metadata": {
        "id": "qfnxC4yyNyjD"
      },
      "source": [
        "Operators on list"
      ]
    },
    {
      "cell_type": "code",
      "metadata": {
        "colab": {
          "base_uri": "https://localhost:8080/"
        },
        "id": "fRDFcYfYNqDR",
        "outputId": "07c93032-27e9-4ee6-94ea-5052f96c358a"
      },
      "source": [
        "# Append operator - Adds an element at the end of the list\r\n",
        "num_list.append(100)\r\n",
        "print(num_list)"
      ],
      "execution_count": 6,
      "outputs": [
        {
          "output_type": "stream",
          "text": [
            "[1, 2, 47, 1, 2, 8, 2, 9, 28, 100]\n"
          ],
          "name": "stdout"
        }
      ]
    },
    {
      "cell_type": "code",
      "metadata": {
        "colab": {
          "base_uri": "https://localhost:8080/"
        },
        "id": "Sa5-MfGTOcDI",
        "outputId": "c6f4fe45-c146-4c24-eccd-f9d78ce6e544"
      },
      "source": [
        "# Copy operator copies the list and doesn't reference the list\r\n",
        "test_list = num_list.copy()\r\n",
        "print(test_list)"
      ],
      "execution_count": 7,
      "outputs": [
        {
          "output_type": "stream",
          "text": [
            "[1, 2, 47, 1, 2, 8, 2, 9, 28, 100]\n"
          ],
          "name": "stdout"
        }
      ]
    },
    {
      "cell_type": "markdown",
      "metadata": {
        "id": "Ir2thFTTOs_e"
      },
      "source": [
        "Copy vs Reference"
      ]
    },
    {
      "cell_type": "code",
      "metadata": {
        "colab": {
          "base_uri": "https://localhost:8080/"
        },
        "id": "Ha9LHGZ2OsX9",
        "outputId": "8803ace1-e955-463f-c561-39ac1dd62782"
      },
      "source": [
        "Original_list = [1,2,3,4,5]\r\n",
        "print(\"Original List is: \", Original_list)\r\n",
        "test_list1 = Original_list # Reference and not copy\r\n",
        "test_list1.append(10)\r\n",
        "print(\"Test list is: \",test_list1, \"\\n Original list is also modified: \", Original_list)\r\n",
        "print(\"\\n Gist: The original data is modified when you reference the list!!\")"
      ],
      "execution_count": 8,
      "outputs": [
        {
          "output_type": "stream",
          "text": [
            "Original List is:  [1, 2, 3, 4, 5]\n",
            "Test list is:  [1, 2, 3, 4, 5, 10] \n",
            " Original list is also modified:  [1, 2, 3, 4, 5, 10]\n",
            "\n",
            " Gist: The original data is modified when you reference the list!!\n"
          ],
          "name": "stdout"
        }
      ]
    },
    {
      "cell_type": "code",
      "metadata": {
        "colab": {
          "base_uri": "https://localhost:8080/"
        },
        "id": "RTP1g9KPPbW3",
        "outputId": "e2459be4-2448-42f8-ed85-86ef1f725cfb"
      },
      "source": [
        "Original_list = [1,2,3,4,5]\r\n",
        "print(\"Original List is: \", Original_list)\r\n",
        "test_list2 = Original_list.copy() # Reference and not copy\r\n",
        "test_list2.append(10)\r\n",
        "print(\"Test list is: \",test_list2, \"\\n Original list is NOT modified: \", Original_list)\r\n",
        "print(\"\\n Gist: The original data is not modified when you copy the list!!\")"
      ],
      "execution_count": 9,
      "outputs": [
        {
          "output_type": "stream",
          "text": [
            "Original List is:  [1, 2, 3, 4, 5]\n",
            "Test list is:  [1, 2, 3, 4, 5, 10] \n",
            " Original list is NOT modified:  [1, 2, 3, 4, 5]\n",
            "\n",
            " Gist: The original data is not modified when you copy the list!!\n"
          ],
          "name": "stdout"
        }
      ]
    },
    {
      "cell_type": "code",
      "metadata": {
        "colab": {
          "base_uri": "https://localhost:8080/"
        },
        "id": "0nOBATKCPzma",
        "outputId": "3914328c-8878-441e-a851-647d77512045"
      },
      "source": [
        "# Count operator counts the number of occurences of each provided element in list\r\n",
        "print(\"List: \", num_list, \"\\n Count the number of occurences of value/element 2 in list is: \", num_list.count(2))"
      ],
      "execution_count": 10,
      "outputs": [
        {
          "output_type": "stream",
          "text": [
            "List:  [1, 2, 47, 1, 2, 8, 2, 9, 28, 100] \n",
            " Count the number of occurences of value/element 2 in list is:  3\n"
          ],
          "name": "stdout"
        }
      ]
    },
    {
      "cell_type": "code",
      "metadata": {
        "colab": {
          "base_uri": "https://localhost:8080/"
        },
        "id": "SRQizrhNQYPk",
        "outputId": "d21d36bd-7799-4129-cf4d-127cfbea0517"
      },
      "source": [
        "print(\"Original list: \", num_list)\r\n",
        "num_list.extend([10])\r\n",
        "print(\"\\n add new element 10 into it: \", num_list)"
      ],
      "execution_count": 11,
      "outputs": [
        {
          "output_type": "stream",
          "text": [
            "Original list:  [1, 2, 47, 1, 2, 8, 2, 9, 28, 100]\n",
            "\n",
            " add new element 10 into it:  [1, 2, 47, 1, 2, 8, 2, 9, 28, 100, 10]\n"
          ],
          "name": "stdout"
        }
      ]
    },
    {
      "cell_type": "markdown",
      "metadata": {
        "id": "V-MhTzySZFPH"
      },
      "source": [
        "Difference between Append and Extend - "
      ]
    },
    {
      "cell_type": "code",
      "metadata": {
        "colab": {
          "base_uri": "https://localhost:8080/"
        },
        "id": "tJfAxn5EZBbQ",
        "outputId": "0ba57b59-8bff-467c-b47e-6fc083f1dcaa"
      },
      "source": [
        "test_list = [1,2,3]\r\n",
        "test_list2 = [5,6,7]\r\n",
        "print(\"The two lists are: \", test_list, \" \", test_list2)\r\n",
        "test_list.append(test_list2)\r\n",
        "print(\"Appended data is nested List and not simple 1D list: \", test_list)"
      ],
      "execution_count": 12,
      "outputs": [
        {
          "output_type": "stream",
          "text": [
            "The two lists are:  [1, 2, 3]   [5, 6, 7]\n",
            "Appended data is nested List and not simple 1D list:  [1, 2, 3, [5, 6, 7]]\n"
          ],
          "name": "stdout"
        }
      ]
    },
    {
      "cell_type": "code",
      "metadata": {
        "colab": {
          "base_uri": "https://localhost:8080/"
        },
        "id": "XHZeit5DZA5U",
        "outputId": "665f04ab-b324-4e07-8722-c45d6bf3326c"
      },
      "source": [
        "test_list = [1,2,3]\r\n",
        "test_list2 = [5,6,7]\r\n",
        "print(\"The two lists are: \", test_list, \" \", test_list2)\r\n",
        "test_list.extend(test_list2)\r\n",
        "print(\"Extended data is added as separate elements into List: \", test_list)"
      ],
      "execution_count": 13,
      "outputs": [
        {
          "output_type": "stream",
          "text": [
            "The two lists are:  [1, 2, 3]   [5, 6, 7]\n",
            "Extended data is added as separate elements into List:  [1, 2, 3, 5, 6, 7]\n"
          ],
          "name": "stdout"
        }
      ]
    },
    {
      "cell_type": "code",
      "metadata": {
        "colab": {
          "base_uri": "https://localhost:8080/"
        },
        "id": "qtcBm-xJZx1e",
        "outputId": "9e0e91ab-d11d-4d10-9471-48a031bfc968"
      },
      "source": [
        "# Extract Index of an existing element in list, if the element is not present then ValueError will be thrown\r\n",
        "print(\"List is: \", num_list, \"\\n Extract index/place of an element 8: \", num_list.index(8))\r\n",
        "print(\"Gist - Index of list starts from 0 and not 1\")"
      ],
      "execution_count": 14,
      "outputs": [
        {
          "output_type": "stream",
          "text": [
            "List is:  [1, 2, 47, 1, 2, 8, 2, 9, 28, 100, 10] \n",
            " Extract index/place of an element 8:  5\n",
            "Gist - Index of list starts from 0 and not 1\n"
          ],
          "name": "stdout"
        }
      ]
    },
    {
      "cell_type": "code",
      "metadata": {
        "colab": {
          "base_uri": "https://localhost:8080/"
        },
        "id": "jFYPBGytaoIw",
        "outputId": "538ce3ef-60cf-4655-e250-25090493006a"
      },
      "source": [
        "# Insert an element into the list at a specifed location/index\r\n",
        "num_list = [1,2,47, 1, 2,8,2,9,28]\r\n",
        "print(\"Original List: \", num_list)\r\n",
        "num_list.insert(4, 1000)\r\n",
        "print(\"List is inserted with new element 1000 at index 4: \", num_list)"
      ],
      "execution_count": 15,
      "outputs": [
        {
          "output_type": "stream",
          "text": [
            "Original List:  [1, 2, 47, 1, 2, 8, 2, 9, 28]\n",
            "List is inserted with new element 1000 at index 4:  [1, 2, 47, 1, 1000, 2, 8, 2, 9, 28]\n"
          ],
          "name": "stdout"
        }
      ]
    },
    {
      "cell_type": "code",
      "metadata": {
        "colab": {
          "base_uri": "https://localhost:8080/"
        },
        "id": "LB7QqIOPbiR_",
        "outputId": "c971bc32-7452-44ca-eea5-5c4d66e3554f"
      },
      "source": [
        "# Remove an element from the existing List based on Index : pop\r\n",
        "num_list = [1,2,47, 1, 2,8,2,9,28]\r\n",
        "print(\"Original List: \", num_list)\r\n",
        "num_list.pop(5)\r\n",
        "print(\"Element at index 5 is removed which corresponds to value 8 between two 2's: \", num_list)"
      ],
      "execution_count": 16,
      "outputs": [
        {
          "output_type": "stream",
          "text": [
            "Original List:  [1, 2, 47, 1, 2, 8, 2, 9, 28]\n",
            "Element at index 5 is removed which corresponds to value 8 between two 2's:  [1, 2, 47, 1, 2, 2, 9, 28]\n"
          ],
          "name": "stdout"
        }
      ]
    },
    {
      "cell_type": "code",
      "metadata": {
        "colab": {
          "base_uri": "https://localhost:8080/"
        },
        "id": "WCI07dKacTW-",
        "outputId": "90ebd7d1-deaa-417d-8bd1-b8564b815d58"
      },
      "source": [
        "# Remove an element from the existing List based on value : remove\r\n",
        "num_list = [1,2,47, 1, 2,8,2,9,28]\r\n",
        "print(\"Original List: \", num_list)\r\n",
        "num_list.remove(47)\r\n",
        "print(\"47 value is removed from the list, first occurence of the value is only removed: \", num_list)"
      ],
      "execution_count": 17,
      "outputs": [
        {
          "output_type": "stream",
          "text": [
            "Original List:  [1, 2, 47, 1, 2, 8, 2, 9, 28]\n",
            "47 value is removed from the list, first occurence of the value is only removed:  [1, 2, 1, 2, 8, 2, 9, 28]\n"
          ],
          "name": "stdout"
        }
      ]
    },
    {
      "cell_type": "code",
      "metadata": {
        "colab": {
          "base_uri": "https://localhost:8080/"
        },
        "id": "5eB5XIE5cnts",
        "outputId": "2f2c4e9e-efcb-4472-f55c-07e27a864a2c"
      },
      "source": [
        "# Reverse the list\r\n",
        "num_list = [1,2,47, 1, 2,8,2,9,28]\r\n",
        "print(\"Original List: \", num_list)\r\n",
        "num_list.reverse()\r\n",
        "print(\"List is reversed : \", num_list)"
      ],
      "execution_count": 18,
      "outputs": [
        {
          "output_type": "stream",
          "text": [
            "Original List:  [1, 2, 47, 1, 2, 8, 2, 9, 28]\n",
            "List is reversed :  [28, 9, 2, 8, 2, 1, 47, 2, 1]\n"
          ],
          "name": "stdout"
        }
      ]
    },
    {
      "cell_type": "code",
      "metadata": {
        "colab": {
          "base_uri": "https://localhost:8080/"
        },
        "id": "soNAYSYac33j",
        "outputId": "0b8d723b-0289-4e54-f8eb-5917112fc295"
      },
      "source": [
        "# Sort the list\r\n",
        "num_list = [1,2,47, 1, 2,8,2,9,28]\r\n",
        "print(\"Original List: \", num_list)\r\n",
        "num_list.sort()\r\n",
        "print(\"List is reversed : \", num_list)"
      ],
      "execution_count": 19,
      "outputs": [
        {
          "output_type": "stream",
          "text": [
            "Original List:  [1, 2, 47, 1, 2, 8, 2, 9, 28]\n",
            "List is reversed :  [1, 1, 2, 2, 2, 8, 9, 28, 47]\n"
          ],
          "name": "stdout"
        }
      ]
    }
  ]
}