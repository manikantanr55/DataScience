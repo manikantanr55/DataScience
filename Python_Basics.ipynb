{
  "nbformat": 4,
  "nbformat_minor": 0,
  "metadata": {
    "colab": {
      "name": "Python_Basics.ipynb",
      "provenance": [],
      "collapsed_sections": [],
      "authorship_tag": "ABX9TyPcjdJAxFJKAh75mWiwgbAa",
      "include_colab_link": true
    },
    "kernelspec": {
      "name": "python3",
      "display_name": "Python 3"
    }
  },
  "cells": [
    {
      "cell_type": "markdown",
      "metadata": {
        "id": "view-in-github",
        "colab_type": "text"
      },
      "source": [
        "<a href=\"https://colab.research.google.com/github/manikantanr55/DataScience/blob/main/Python_Basics.ipynb\" target=\"_parent\"><img src=\"https://colab.research.google.com/assets/colab-badge.svg\" alt=\"Open In Colab\"/></a>"
      ]
    },
    {
      "cell_type": "markdown",
      "metadata": {
        "id": "0nbBGnhJBysL"
      },
      "source": [
        "## **Python Basics**\r\n",
        "\r\n",
        "This notebook consists of essential python basics required to gain access to Data analsis in day to day life of a Data Analyst\r\n",
        "\r\n",
        "Note: This has only the basics and not entire python"
      ]
    },
    {
      "cell_type": "markdown",
      "metadata": {
        "id": "FmkN3TinCV0H"
      },
      "source": [
        "Data Structures list - \r\n",
        "\r\n",
        "*   List\r\n",
        "*   Sets\r\n",
        "*   Tuple\r\n",
        "*   Dictionary\r\n",
        "\r\n",
        "\r\n",
        "\r\n",
        "\r\n"
      ]
    },
    {
      "cell_type": "markdown",
      "metadata": {
        "id": "rHX9QmhNK3Sd"
      },
      "source": [
        "### Comparision Operators"
      ]
    },
    {
      "cell_type": "code",
      "metadata": {
        "colab": {
          "base_uri": "https://localhost:8080/"
        },
        "id": "QAAH_6sIBjBB",
        "outputId": "29d6a482-62b1-47ba-ad35-43375433af2e"
      },
      "source": [
        "# Comparision Operators\r\n",
        "print(\"And operator needs both of the arguments to be True: \\n\")\r\n",
        "print(\"True and False: \", True and False)\r\n",
        "print(\"True and True: \", True and True)\r\n",
        "print(\"False and False: \", False and False)\r\n",
        "\r\n",
        "print(\"\\n OR operator needs either of the arguments to be True: \\n\")\r\n",
        "print(\"True or False: \", True or False)\r\n",
        "print(\"True or True: \", True or True)\r\n",
        "print(\"False or False: \", False or False)"
      ],
      "execution_count": 35,
      "outputs": [
        {
          "output_type": "stream",
          "text": [
            "And operator needs both of the arguments to be True: \n",
            "\n",
            "True and False:  False\n",
            "True and True:  True\n",
            "False and False:  False\n",
            "\n",
            " OR operator needs either of the arguments to be True: \n",
            "\n",
            "True or False:  True\n",
            "True or True:  True\n",
            "False or False:  False\n"
          ],
          "name": "stdout"
        }
      ]
    },
    {
      "cell_type": "markdown",
      "metadata": {
        "id": "CV35P-d2ECkU"
      },
      "source": [
        "### **List**\r\n",
        "\r\n",
        "*   Ordered(indexing) sequency of elements, which are mutable(can change any value)\r\n",
        "*   Defined inside square brackets [ ]\r\n",
        "*   Can have different datatypes i.e., different data types can be as elements in list"
      ]
    },
    {
      "cell_type": "code",
      "metadata": {
        "colab": {
          "base_uri": "https://localhost:8080/"
        },
        "id": "HVtfGFWjBwj1",
        "outputId": "6e633242-748d-4700-af4b-5763f7cd8c84"
      },
      "source": [
        "list_example = [] # Empty list initiation\r\n",
        "type(list_example)"
      ],
      "execution_count": 9,
      "outputs": [
        {
          "output_type": "execute_result",
          "data": {
            "text/plain": [
              "list"
            ]
          },
          "metadata": {
            "tags": []
          },
          "execution_count": 9
        }
      ]
    },
    {
      "cell_type": "code",
      "metadata": {
        "colab": {
          "base_uri": "https://localhost:8080/"
        },
        "id": "03J99ZFiEqdK",
        "outputId": "232ca7d1-245e-4ff9-eab4-d15a35689273"
      },
      "source": [
        "# Example list\r\n",
        "num_list = [1,2,47, 1, 2,8,2,9,28]\r\n",
        "char_list = [\"hi\", \"welcome to\", \"Data Science\", \"with python\"]\r\n",
        "combined_list = [1,2,47,8,9,28, \"hi\", \"welcome to\", \"Data Science\", \"with python\"]\r\n",
        "print(\"List with only numbers: \", num_list, \"\\n List with only strings: \", char_list, \"\\n List with numbers and strings: \", combined_list)"
      ],
      "execution_count": 60,
      "outputs": [
        {
          "output_type": "stream",
          "text": [
            "List with only numbers:  [1, 2, 47, 1, 2, 8, 2, 9, 28] \n",
            " List with only strings:  ['hi', 'welcome to', 'Data Science', 'with python'] \n",
            " List with numbers and strings:  [1, 2, 47, 8, 9, 28, 'hi', 'welcome to', 'Data Science', 'with python']\n"
          ],
          "name": "stdout"
        }
      ]
    },
    {
      "cell_type": "code",
      "metadata": {
        "colab": {
          "base_uri": "https://localhost:8080/"
        },
        "id": "QoyjvGFiF4oG",
        "outputId": "0390d82e-b1c3-4b26-a7c4-746bedc6d97e"
      },
      "source": [
        "# Common functions to be used to identify list properties\r\n",
        "print(\"Length/number of elements in a list is given by len(list) = \", len(num_list), \"\\n\")\r\n",
        "print(\"Max of elements in a list is given by max(list) = \", max(num_list), \"\\n\")\r\n",
        "print(\"Min of elements in a list is given by min(list) = \", min(num_list), \"\\n\")"
      ],
      "execution_count": 32,
      "outputs": [
        {
          "output_type": "stream",
          "text": [
            "Length/number of elements in a list is given by len(list) =  6 \n",
            "\n",
            "Max of elements in a list is given by max(list) =  47 \n",
            "\n",
            "Max of elements in a list is given by min(list) =  1 \n",
            "\n"
          ],
          "name": "stdout"
        }
      ]
    },
    {
      "cell_type": "code",
      "metadata": {
        "colab": {
          "base_uri": "https://localhost:8080/"
        },
        "id": "D6C8HKdRGyVq",
        "outputId": "aa38bd80-db89-4ca3-c99c-4d4d054b555a"
      },
      "source": [
        "# For those who are wondering how min and max works for list of strings:\r\n",
        "sample_list = [\"aaa\", \"ccc\", \"xxx\", \"ddd\"]\r\n",
        "print(\"Max of a list of strings: \", max(sample_list), \"\\n \")\r\n",
        "print(\"Min of a list of strings: \", min(sample_list), \"\\n \")"
      ],
      "execution_count": 34,
      "outputs": [
        {
          "output_type": "stream",
          "text": [
            "Max of a list of strings:  xxx \n",
            " \n",
            "Min of a list of strings:  aaa \n",
            " \n"
          ],
          "name": "stdout"
        }
      ]
    },
    {
      "cell_type": "markdown",
      "metadata": {
        "id": "qfnxC4yyNyjD"
      },
      "source": [
        "Operators on list"
      ]
    },
    {
      "cell_type": "code",
      "metadata": {
        "colab": {
          "base_uri": "https://localhost:8080/"
        },
        "id": "fRDFcYfYNqDR",
        "outputId": "8931d9bd-dac6-416f-bf39-aa748d0de2c8"
      },
      "source": [
        "# Append operator - Adds an element at the end of the list\r\n",
        "num_list.append(100)\r\n",
        "print(num_list)"
      ],
      "execution_count": 39,
      "outputs": [
        {
          "output_type": "stream",
          "text": [
            "[1, 2, 47, 8, 9, 28, 100]\n"
          ],
          "name": "stdout"
        }
      ]
    },
    {
      "cell_type": "code",
      "metadata": {
        "colab": {
          "base_uri": "https://localhost:8080/"
        },
        "id": "Sa5-MfGTOcDI",
        "outputId": "5a8fb436-b455-406c-a51e-086a2bfdad0d"
      },
      "source": [
        "# Copy operator copies the list and doesn't reference the list\r\n",
        "test_list = num_list.copy()\r\n",
        "print(test_list)"
      ],
      "execution_count": 41,
      "outputs": [
        {
          "output_type": "stream",
          "text": [
            "[1, 2, 47, 8, 9, 28, 100]\n"
          ],
          "name": "stdout"
        }
      ]
    },
    {
      "cell_type": "markdown",
      "metadata": {
        "id": "Ir2thFTTOs_e"
      },
      "source": [
        "Copy vs Reference"
      ]
    },
    {
      "cell_type": "code",
      "metadata": {
        "colab": {
          "base_uri": "https://localhost:8080/"
        },
        "id": "Ha9LHGZ2OsX9",
        "outputId": "7d6512cd-e63d-45eb-b463-2d0cf20518e7"
      },
      "source": [
        "Original_list = [1,2,3,4,5]\r\n",
        "print(\"Original List is: \", Original_list)\r\n",
        "test_list1 = Original_list # Reference and not copy\r\n",
        "test_list1.append(10)\r\n",
        "print(\"Test list is: \",test_list1, \"\\n Original list is also modified: \", Original_list)\r\n",
        "print(\"\\n Gist: The original data is modified when you reference the list!!\")"
      ],
      "execution_count": 49,
      "outputs": [
        {
          "output_type": "stream",
          "text": [
            "Original List is:  [1, 2, 3, 4, 5]\n",
            "Test list is:  [1, 2, 3, 4, 5, 10] \n",
            " Original list is also modified:  [1, 2, 3, 4, 5, 10]\n",
            "\n",
            " Gist: The original data is modified when you reference the list!!\n"
          ],
          "name": "stdout"
        }
      ]
    },
    {
      "cell_type": "code",
      "metadata": {
        "colab": {
          "base_uri": "https://localhost:8080/"
        },
        "id": "RTP1g9KPPbW3",
        "outputId": "1473c8c2-e37c-454f-d023-6fe1cb8f9a52"
      },
      "source": [
        "Original_list = [1,2,3,4,5]\r\n",
        "print(\"Original List is: \", Original_list)\r\n",
        "test_list2 = Original_list.copy() # Reference and not copy\r\n",
        "test_list2.append(10)\r\n",
        "print(\"Test list is: \",test_list2, \"\\n Original list is NOT modified: \", Original_list)\r\n",
        "print(\"\\n Gist: The original data is not modified when you copy the list!!\")"
      ],
      "execution_count": 48,
      "outputs": [
        {
          "output_type": "stream",
          "text": [
            "Original List is:  [1, 2, 3, 4, 5]\n",
            "Test list is:  [1, 2, 3, 4, 5, 10] \n",
            " Original list is NOT modified:  [1, 2, 3, 4, 5]\n",
            "\n",
            " Gist: The original data is not modified when you copy the list!!\n"
          ],
          "name": "stdout"
        }
      ]
    },
    {
      "cell_type": "code",
      "metadata": {
        "colab": {
          "base_uri": "https://localhost:8080/"
        },
        "id": "0nOBATKCPzma",
        "outputId": "89a254ac-c4b2-4d46-d432-0753135719e7"
      },
      "source": [
        "# Count operator counts the number of occurences of each provided element in list\r\n",
        "print(\"List: \", num_list, \"\\n Count the number of occurences of value/element 2 in list is: \", num_list.count(2))"
      ],
      "execution_count": 55,
      "outputs": [
        {
          "output_type": "stream",
          "text": [
            "List:  [1, 2, 47, 1, 2, 8, 2, 9, 28] \n",
            " Count the number of occurences of value/element 2 in list is:  3\n"
          ],
          "name": "stdout"
        }
      ]
    },
    {
      "cell_type": "code",
      "metadata": {
        "colab": {
          "base_uri": "https://localhost:8080/"
        },
        "id": "SRQizrhNQYPk",
        "outputId": "1c2a82fb-b5fb-4dd8-ad1d-bdd5ebfcfe9e"
      },
      "source": [
        "print(\"Original list: \", num_list)\r\n",
        "num_list.extend([10])\r\n",
        "print(\"\\n add new element 10 into it: \", num_list)"
      ],
      "execution_count": 61,
      "outputs": [
        {
          "output_type": "stream",
          "text": [
            "Original list:  [1, 2, 47, 1, 2, 8, 2, 9, 28]\n",
            "\n",
            " add new element 10 into it:  [1, 2, 47, 1, 2, 8, 2, 9, 28, 10]\n"
          ],
          "name": "stdout"
        }
      ]
    },
    {
      "cell_type": "markdown",
      "metadata": {
        "id": "V-MhTzySZFPH"
      },
      "source": [
        "Difference between Append and Extend - "
      ]
    },
    {
      "cell_type": "code",
      "metadata": {
        "colab": {
          "base_uri": "https://localhost:8080/"
        },
        "id": "tJfAxn5EZBbQ",
        "outputId": "92fae3ad-9a10-4868-d3d2-7b48a183c414"
      },
      "source": [
        "test_list = [1,2,3]\r\n",
        "test_list2 = [5,6,7]\r\n",
        "print(\"The two lists are: \", test_list, \" \", test_list2)\r\n",
        "test_list.append(test_list2)\r\n",
        "print(\"Appended data is nested List and not simple 1D list: \", test_list)"
      ],
      "execution_count": 64,
      "outputs": [
        {
          "output_type": "stream",
          "text": [
            "The two lists are:  [1, 2, 3]   [5, 6, 7]\n",
            "Appended data is nested List and not simple 1D list:  [1, 2, 3, [5, 6, 7]]\n"
          ],
          "name": "stdout"
        }
      ]
    },
    {
      "cell_type": "code",
      "metadata": {
        "colab": {
          "base_uri": "https://localhost:8080/"
        },
        "id": "XHZeit5DZA5U",
        "outputId": "2175f30b-cc7b-4705-eb47-743182bd15d6"
      },
      "source": [
        "test_list = [1,2,3]\r\n",
        "test_list2 = [5,6,7]\r\n",
        "print(\"The two lists are: \", test_list, \" \", test_list2)\r\n",
        "test_list.extend(test_list2)\r\n",
        "print(\"Extended data is added as separate elements into List: \", test_list)"
      ],
      "execution_count": 65,
      "outputs": [
        {
          "output_type": "stream",
          "text": [
            "The two lists are:  [1, 2, 3]   [5, 6, 7]\n",
            "Extended data is added as separate elements into List:  [1, 2, 3, 5, 6, 7]\n"
          ],
          "name": "stdout"
        }
      ]
    },
    {
      "cell_type": "code",
      "metadata": {
        "colab": {
          "base_uri": "https://localhost:8080/"
        },
        "id": "qtcBm-xJZx1e",
        "outputId": "d81484f2-db79-48e4-b5f5-de87967775b9"
      },
      "source": [
        "# Extract Index of an existing element in list, if the element is not present then ValueError will be thrown\r\n",
        "print(\"List is: \", num_list, \"\\n Extract index/place of an element 8: \", num_list.index(8))\r\n",
        "print(\"Gist - Index of list starts from 0 and not 1\")"
      ],
      "execution_count": 71,
      "outputs": [
        {
          "output_type": "stream",
          "text": [
            "List is:  [1, 2, 47, 1, 2, 8, 2, 9, 28, 10] \n",
            " Extract index/place of an element 8:  5\n",
            "Gist - Index of list starts from 0 and not 1\n"
          ],
          "name": "stdout"
        }
      ]
    },
    {
      "cell_type": "code",
      "metadata": {
        "colab": {
          "base_uri": "https://localhost:8080/"
        },
        "id": "jFYPBGytaoIw",
        "outputId": "68d356d1-85d2-4d17-e12d-5d92897952d5"
      },
      "source": [
        "# Insert an element into the list at a specifed location/index\r\n",
        "num_list = [1,2,47, 1, 2,8,2,9,28]\r\n",
        "print(\"Original List: \", num_list)\r\n",
        "num_list.insert(4, 1000)\r\n",
        "print(\"List is inserted with new element 1000 at index 4: \", num_list)"
      ],
      "execution_count": 75,
      "outputs": [
        {
          "output_type": "stream",
          "text": [
            "Original List:  [1, 2, 47, 1, 2, 8, 2, 9, 28]\n",
            "List is inserted with new element 1000 at index 4:  [1, 2, 47, 1, 1000, 2, 8, 2, 9, 28]\n"
          ],
          "name": "stdout"
        }
      ]
    },
    {
      "cell_type": "code",
      "metadata": {
        "colab": {
          "base_uri": "https://localhost:8080/"
        },
        "id": "LB7QqIOPbiR_",
        "outputId": "7587bfb8-17f9-4a9c-e5a5-6a43bb8f2433"
      },
      "source": [
        "# Remove an element from the existing List based on Index : pop\r\n",
        "num_list = [1,2,47, 1, 2,8,2,9,28]\r\n",
        "print(\"Original List: \", num_list)\r\n",
        "num_list.pop(5)\r\n",
        "print(\"Element at index 5 is removed which corresponds to value 8 between two 2's: \", num_list)"
      ],
      "execution_count": 80,
      "outputs": [
        {
          "output_type": "stream",
          "text": [
            "Original List:  [1, 2, 47, 1, 2, 8, 2, 9, 28]\n",
            "Element at index 5 is removed which corresponds to value 8 between two 2's:  [1, 2, 47, 1, 2, 2, 9, 28]\n"
          ],
          "name": "stdout"
        }
      ]
    },
    {
      "cell_type": "code",
      "metadata": {
        "colab": {
          "base_uri": "https://localhost:8080/"
        },
        "id": "WCI07dKacTW-",
        "outputId": "a9cef275-a622-4b14-add3-d0598b8ee63c"
      },
      "source": [
        "# Remove an element from the existing List based on value : remove\r\n",
        "num_list = [1,2,47, 1, 2,8,2,9,28]\r\n",
        "print(\"Original List: \", num_list)\r\n",
        "num_list.remove(47)\r\n",
        "print(\"47 value is removed from the list, first occurence of the value is only removed: \", num_list)"
      ],
      "execution_count": 81,
      "outputs": [
        {
          "output_type": "stream",
          "text": [
            "Original List:  [1, 2, 47, 1, 2, 8, 2, 9, 28]\n",
            "47 value is removed from the list, first occurence of the value is only removed:  [1, 2, 1, 2, 8, 2, 9, 28]\n"
          ],
          "name": "stdout"
        }
      ]
    },
    {
      "cell_type": "code",
      "metadata": {
        "colab": {
          "base_uri": "https://localhost:8080/"
        },
        "id": "5eB5XIE5cnts",
        "outputId": "df74ac17-5602-44d4-9141-6e56f052ff01"
      },
      "source": [
        "# Reverse the list\r\n",
        "num_list = [1,2,47, 1, 2,8,2,9,28]\r\n",
        "print(\"Original List: \", num_list)\r\n",
        "num_list.reverse()\r\n",
        "print(\"List is reversed : \", num_list)"
      ],
      "execution_count": 86,
      "outputs": [
        {
          "output_type": "stream",
          "text": [
            "Original List:  [1, 2, 47, 1, 2, 8, 2, 9, 28]\n",
            "List is reversed :  [28, 9, 2, 8, 2, 1, 47, 2, 1]\n"
          ],
          "name": "stdout"
        }
      ]
    },
    {
      "cell_type": "code",
      "metadata": {
        "colab": {
          "base_uri": "https://localhost:8080/"
        },
        "id": "soNAYSYac33j",
        "outputId": "d0b3d553-9352-47e8-ea0b-3d3d85805ae3"
      },
      "source": [
        "# Sort the list\r\n",
        "num_list = [1,2,47, 1, 2,8,2,9,28]\r\n",
        "print(\"Original List: \", num_list)\r\n",
        "num_list.sort()\r\n",
        "print(\"List is reversed : \", num_list)"
      ],
      "execution_count": 87,
      "outputs": [
        {
          "output_type": "stream",
          "text": [
            "Original List:  [1, 2, 47, 1, 2, 8, 2, 9, 28]\n",
            "List is reversed :  [1, 1, 2, 2, 2, 8, 9, 28, 47]\n"
          ],
          "name": "stdout"
        }
      ]
    }
  ]
}